{
 "cells": [
  {
   "cell_type": "markdown",
   "metadata": {
    "deletable": false,
    "editable": false,
    "run_control": {
     "frozen": true
    }
   },
   "source": [
    "# [acharya.ai](https://acharya.ai)"
   ]
  },
  {
   "cell_type": "markdown",
   "metadata": {
    "deletable": false,
    "editable": false,
    "run_control": {
     "frozen": true
    }
   },
   "source": [
    "<div style=\"text-align: center; font-size: 1.5em;\">\n",
    "ॐ असतो मा सद्गमय <br><br>\n",
    "तमसो मा ज्योतिर्गमय <br><br>\n",
    "मृत्योर्मा अमृतं गमय <br><br>\n",
    "ॐ शान्तिः शान्तिः शान्तिः ॥\n",
    "</div>\n",
    "<hr>\n",
    "__Meaning__: Om, Keep me not in (the Phenomenal World of) Unreality, but make me go towards the Reality (of Eternal Self),\n",
    "Keep me not in (the Ignorant State of) Darkness, but make me go towards the Light (of Spiritual Knowledge),\n",
    "Keep me not in (the World of) Mortality, but make me go towards the World of Immortality (of Self-Realization),\n",
    "Om, Peace, Peace, Peace."
   ]
  },
  {
   "cell_type": "markdown",
   "metadata": {
    "deletable": false,
    "editable": false,
    "run_control": {
     "frozen": true
    }
   },
   "source": [
    "## Exercises"
   ]
  },
  {
   "cell_type": "markdown",
   "metadata": {
    "collapsed": true,
    "deletable": false,
    "editable": false,
    "run_control": {
     "frozen": true
    }
   },
   "source": [
    "__Exercise 2.1__ Consider that `s` is a `str` type variable that contains a string of length `r`. You want to extract a substring from the string `s`. If the position of the substring in `s` starts from the index location `m` and ends at the index location `n-1`, find the length of the substring."
   ]
  },
  {
   "cell_type": "markdown",
   "metadata": {
    "deletable": false,
    "editable": false,
    "run_control": {
     "frozen": true
    }
   },
   "source": [
    "__Exercise 2.2__ A `str` type variable `s` contains a string of arbitrary length. Give the expression to return `r` characters starting at index `m`."
   ]
  },
  {
   "cell_type": "markdown",
   "metadata": {
    "deletable": false,
    "editable": false,
    "run_control": {
     "frozen": true
    },
    "slideshow": {
     "slide_type": "slide"
    }
   },
   "source": [
    "__Exercise 2.3__ For a string `s = \"AI 101, Scientific Python Programming\"`. Perform the following operations in the given order:\n",
    "\n",
    "__1.__ Split the string `s` using built-in string method `split([sep])`. In `split([sep])` method, the optional `sep` is the character or a substring where a given string should be separated. If no `sep` is provided, the default is `\" \"` (space character). In a given string where `sep` is appearing `n` times, the returned list will contain $n+1$ items. E.g., `\"Hello World!\".split()` will return a list with two items, `[\"Hello\", \"World!\"]` because the default `\" \"` appeared one time. <br>\n",
    "\n",
    "Use the multiple assignemts in a single line and assign the returned list items in the variable `code` and `course_name` respectively.<br> HINT: Use `\", \"` as `sep`. <br><br>\n",
    "__2.__ Using built-in string method `split([sep])`, split the string represented by variable `code` and save the returned items in new variables `code_name` and `code_num`. Then, using built-in string method `isdigit()`, check if the characters in `code_num` are all digits. <br><br>\n",
    "__3.__ Join the string variables `code_name`, `code_num` and `course_name` using built-in string method `join([list])`. In `join([list])` method, `list` is optional and contains strings that you want to join. Save the result in a new variable `course`. Ensure that the new variable `course` and the original string variable `s` have the same string. <br>HINT: You may recreate the intermediate variable `code` by joining `code_name` and `code_num`. Then in the second line you may create variable `course` by joining `code` and `course_name` using. Then compare if `course` and `s` are equal."
   ]
  },
  {
   "cell_type": "markdown",
   "metadata": {
    "deletable": false,
    "editable": false,
    "run_control": {
     "frozen": true
    }
   },
   "source": [
    "__Exercise 2.4__ `any()` and `all()` are built-in function. `any()` tests whether any of the items in an iterable object equivalent to `True`. Similarly, `all()` tests if all the items in `t` are equivalent to `True`. Given a tuple `t = (5, 1, 0, 3, ())`, test if any of the items in it are equivalent to `True`. Also test if all items in it are equivalent to `True`."
   ]
  },
  {
   "cell_type": "markdown",
   "metadata": {
    "deletable": false,
    "editable": false,
    "run_control": {
     "frozen": true
    }
   },
   "source": [
    "__Exercise 2.5__ Given a tuple with four items `(\"Hyderabad\", 650, 211, 6809970)`, using tuple packing create a tuple variable `city_record`. Now, how can you unpack (popularly referred as tuple unpacking) the tuple `city_record` in three variables `city`, `area`, `year_population`? Find the type of the variable `year_population`."
   ]
  },
  {
   "cell_type": "markdown",
   "metadata": {
    "deletable": false,
    "editable": false,
    "run_control": {
     "frozen": true
    }
   },
   "source": [
    "__Exercise 2.6__ Run the code and give your reasoning, why the memory address of `x` in step 2 and step 4 are different but in step 6 and step 8 are same?\n",
    "```python\n",
    "x = (2, 4, 8) # step 1\n",
    "print(id(x))  # step 2\n",
    "x *= 2        # step 3\n",
    "print(id(x))  # step 4\n",
    "\n",
    "x = [2, 4, 8] # step 5\n",
    "print(id(x))  # step 6\n",
    "x *= 2        # step 7\n",
    "print(id(x))  # step 8\n",
    "```"
   ]
  }
 ],
 "metadata": {
  "kernelspec": {
   "display_name": "Python 3.6",
   "language": "python",
   "name": "python36"
  },
  "language_info": {
   "codemirror_mode": {
    "name": "ipython",
    "version": 3
   },
   "file_extension": ".py",
   "mimetype": "text/x-python",
   "name": "python",
   "nbconvert_exporter": "python",
   "pygments_lexer": "ipython3",
   "version": "3.6.6"
  }
 },
 "nbformat": 4,
 "nbformat_minor": 2
}
