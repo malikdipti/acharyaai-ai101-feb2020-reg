{
  "cells": [
    {
      "metadata": {
        "deletable": false,
        "editable": false,
        "run_control": {
          "frozen": true
        }
      },
      "cell_type": "markdown",
      "source": "# [acharya.ai](https://acharya.ai)"
    },
    {
      "metadata": {
        "deletable": false,
        "editable": false,
        "run_control": {
          "frozen": true
        }
      },
      "cell_type": "markdown",
      "source": "<div style=\"text-align: center; font-size: 1.5em;\">\nॐ असतो मा सद्गमय <br><br>\nतमसो मा ज्योतिर्गमय <br><br>\nमृत्योर्मा अमृतं गमय <br><br>\nॐ शान्तिः शान्तिः शान्तिः ॥\n</div>\n<hr>\n__Meaning__: Om, Keep me not in (the Phenomenal World of) Unreality, but make me go towards the Reality (of Eternal Self),\nKeep me not in (the Ignorant State of) Darkness, but make me go towards the Light (of Spiritual Knowledge),\nKeep me not in (the World of) Mortality, but make me go towards the World of Immortality (of Self-Realization),\nOm, Peace, Peace, Peace."
    },
    {
      "metadata": {
        "deletable": false,
        "editable": false,
        "run_control": {
          "frozen": true
        }
      },
      "cell_type": "markdown",
      "source": "## Exercises"
    },
    {
      "metadata": {
        "collapsed": true,
        "deletable": false,
        "editable": false,
        "run_control": {
          "frozen": true
        }
      },
      "cell_type": "markdown",
      "source": "__Exercise 2.1__ Consider that `s` is a `str` type variable that contains a string of length `r`. You want to extract a substring from the string `s`. If the position of the substring in `s` starts from the index location `m` and ends at the index location `n-1`, find the length of the substring."
    },
    {
      "metadata": {},
      "cell_type": "markdown",
      "source": "# Exercise 2.1: Solutions"
    },
    {
      "metadata": {
        "trusted": true
      },
      "cell_type": "code",
      "source": "#Solutions: 2.1\n\n# 1. \"s\" is a \"str\" type variable that contains a string of length \"r\" .\n# 2. Extracting a substring from the string \" s\" .starts from the index location \"m\" and ends at the index location \"n-1\"  # s[m:n-1].\n# 3. The length of that substring (n-1)-m  .\n\ns = \"string of length r\"  \nprint(\"length of the substring= (n-1)-m\")\n",
      "execution_count": 109,
      "outputs": [
        {
          "output_type": "stream",
          "text": "length of the substring= (n-1)-m\n",
          "name": "stdout"
        }
      ]
    },
    {
      "metadata": {
        "trusted": true
      },
      "cell_type": "code",
      "source": "#Example:2.1\n\ns = \"data scientist\"      \nd = s[2:9]                                     \nprint(d)                 \nlen(d)                   ",
      "execution_count": 110,
      "outputs": [
        {
          "output_type": "stream",
          "text": "ta scie\n",
          "name": "stdout"
        },
        {
          "output_type": "execute_result",
          "execution_count": 110,
          "data": {
            "text/plain": "7"
          },
          "metadata": {}
        }
      ]
    },
    {
      "metadata": {
        "deletable": false,
        "editable": false,
        "run_control": {
          "frozen": true
        }
      },
      "cell_type": "markdown",
      "source": "__Exercise 2.2__ A `str` type variable `s` contains a string of arbitrary length. Give the expression to return `r` characters starting at index `m`."
    },
    {
      "metadata": {},
      "cell_type": "markdown",
      "source": "# Exercise 2.2 :"
    },
    {
      "metadata": {
        "trusted": true
      },
      "cell_type": "code",
      "source": "s = \"contains a string of arbitrary length \" # S contain a string of arbitary length\nr = print(\" s[m:] \")                        # s[m:] ,characters starting at index m",
      "execution_count": 111,
      "outputs": [
        {
          "output_type": "stream",
          "text": " s[m:] \n",
          "name": "stdout"
        }
      ]
    },
    {
      "metadata": {
        "trusted": true
      },
      "cell_type": "code",
      "source": "#Example 2.2:\n\ns = \"Human Being\"       \nprint(type(s))\nr = s[4:]                  \nr",
      "execution_count": 112,
      "outputs": [
        {
          "output_type": "stream",
          "text": "<class 'str'>\n",
          "name": "stdout"
        },
        {
          "output_type": "execute_result",
          "execution_count": 112,
          "data": {
            "text/plain": "'n Being'"
          },
          "metadata": {}
        }
      ]
    },
    {
      "metadata": {
        "deletable": false,
        "editable": false,
        "run_control": {
          "frozen": true
        },
        "slideshow": {
          "slide_type": "slide"
        }
      },
      "cell_type": "markdown",
      "source": "__Exercise 2.3__ For a string `s = \"AI 101, Scientific Python Programming\"`. Perform the following operations in the given order:\n\n__1.__ Split the string `s` using built-in string method `split([sep])`. In `split([sep])` method, the optional `sep` is the character or a substring where a given string should be separated. If no `sep` is provided, the default is `\" \"` (space character). In a given string where `sep` is appearing `n` times, the returned list will contain $n+1$ items. E.g., `\"Hello World!\".split()` will return a list with two items, `[\"Hello\", \"World!\"]` because the default `\" \"` appeared one time. <br>\n\nUse the multiple assignemts in a single line and assign the returned list items in the variable `code` and `course_name` respectively.<br> HINT: Use `\", \"` as `sep`. <br><br>\n__2.__ Using built-in string method `split([sep])`, split the string represented by variable `code` and save the returned items in new variables `code_name` and `code_num`. Then, using built-in string method `isdigit()`, check if the characters in `code_num` are all digits. <br><br>\n__3.__ Join the string variables `code_name`, `code_num` and `course_name` using built-in string method `join([list])`. In `join([list])` method, `list` is optional and contains strings that you want to join. Save the result in a new variable `course`. Ensure that the new variable `course` and the original string variable `s` have the same string. <br>HINT: You may recreate the intermediate variable `code` by joining `code_name` and `code_num`. Then in the second line you may create variable `course` by joining `code` and `course_name` using. Then compare if `course` and `s` are equal."
    },
    {
      "metadata": {},
      "cell_type": "markdown",
      "source": "# Exercise 2.3 : Solutions"
    },
    {
      "metadata": {},
      "cell_type": "markdown",
      "source": "#  2.3.1:"
    },
    {
      "metadata": {
        "trusted": true
      },
      "cell_type": "code",
      "source": "s = \"AI 101, Scientific Python Programming\"\n\ncode, course_name = s.split(\", \")      # spliting the string with the comma separator(\",\") and \n                                       #Assign the value to those Respective variables i,e \" code\" and \"couse_name\"\nprint(code)                            #print \"code \" value\nprint(course_name)                     #print \"course_name\" value",
      "execution_count": 113,
      "outputs": [
        {
          "output_type": "stream",
          "text": "AI 101\nScientific Python Programming\n",
          "name": "stdout"
        }
      ]
    },
    {
      "metadata": {},
      "cell_type": "markdown",
      "source": "#  2.3.2:"
    },
    {
      "metadata": {
        "trusted": true
      },
      "cell_type": "code",
      "source": "code_name,code_num = code.split()   #split the \"code\" value and assign into those respective variables                                 \nprint(code_name)                    # printing the code_name\nprint(code_num)                     # printing the code_num",
      "execution_count": 114,
      "outputs": [
        {
          "output_type": "stream",
          "text": "AI\n101\n",
          "name": "stdout"
        }
      ]
    },
    {
      "metadata": {
        "trusted": true
      },
      "cell_type": "code",
      "source": "code_num.isdigit()       # Check code_num is digit or not using isdigit()\n",
      "execution_count": 115,
      "outputs": [
        {
          "output_type": "execute_result",
          "execution_count": 115,
          "data": {
            "text/plain": "True"
          },
          "metadata": {}
        }
      ]
    },
    {
      "metadata": {},
      "cell_type": "markdown",
      "source": "#  2.3.3:"
    },
    {
      "metadata": {
        "trusted": true
      },
      "cell_type": "code",
      "source": "course = \", \".join([code,course_name])   # join the the code and course_name and assign into course variabe \ncourse                                   #printing the couse",
      "execution_count": 116,
      "outputs": [
        {
          "output_type": "execute_result",
          "execution_count": 116,
          "data": {
            "text/plain": "'AI 101, Scientific Python Programming'"
          },
          "metadata": {}
        }
      ]
    },
    {
      "metadata": {
        "trusted": true
      },
      "cell_type": "code",
      "source": "s == course              #comparing string s and course is equl or not",
      "execution_count": 117,
      "outputs": [
        {
          "output_type": "execute_result",
          "execution_count": 117,
          "data": {
            "text/plain": "True"
          },
          "metadata": {}
        }
      ]
    },
    {
      "metadata": {
        "deletable": false,
        "editable": false,
        "run_control": {
          "frozen": true
        }
      },
      "cell_type": "markdown",
      "source": "__Exercise 2.4__ `any()` and `all()` are built-in function. `any()` tests whether any of the items in an iterable object equivalent to `True`. Similarly, `all()` tests if all the items in `t` are equivalent to `True`. Given a tuple `t = (5, 1, 0, 3, ())`, test if any of the items in it are equivalent to `True`. Also test if all items in it are equivalent to `True`."
    },
    {
      "metadata": {},
      "cell_type": "markdown",
      "source": "# Exercise 2.4 :Solutions"
    },
    {
      "metadata": {
        "trusted": true
      },
      "cell_type": "code",
      "source": "# Return True if any element of the iterable is true. If the iterable is empty return False .\n\nt = (5,1,0,3,())    \nany(t)\n",
      "execution_count": 118,
      "outputs": [
        {
          "output_type": "execute_result",
          "execution_count": 118,
          "data": {
            "text/plain": "True"
          },
          "metadata": {}
        }
      ]
    },
    {
      "metadata": {
        "trusted": true
      },
      "cell_type": "code",
      "source": "# Return True if all elements of the iterable are true ( or ) if the iterable is empty.\n    \nall(t)      ",
      "execution_count": 119,
      "outputs": [
        {
          "output_type": "execute_result",
          "execution_count": 119,
          "data": {
            "text/plain": "False"
          },
          "metadata": {}
        }
      ]
    },
    {
      "metadata": {
        "deletable": false,
        "editable": false,
        "run_control": {
          "frozen": true
        }
      },
      "cell_type": "markdown",
      "source": "__Exercise 2.5__ Given a tuple with four items `(\"Hyderabad\", 650, 211, 6809970)`, using tuple packing create a tuple variable `city_record`. Now, how can you unpack (popularly referred as tuple unpacking) the tuple `city_record` in three variables `city`, `area`, `year_population`? Find the type of the variable `year_population`."
    },
    {
      "metadata": {},
      "cell_type": "markdown",
      "source": "# Exercise 2.5: Solutions"
    },
    {
      "metadata": {
        "trusted": true
      },
      "cell_type": "code",
      "source": "# Packing value into variale city_record\n\ncity_record = (\"Hyderabad\",650,211, 6809970)     ",
      "execution_count": 120,
      "outputs": []
    },
    {
      "metadata": {
        "trusted": true
      },
      "cell_type": "code",
      "source": "#In unpacking of tuple, number of variables should be equal to number of value. if not ,\n#In Python we use a special syntax to pass optional arguments (*args) for tuple unpacking\n#number of values in given tuple .Here variables was not eual to values \n#That means their can be many number of arguments in place of (*args) in python.\n#All values will be assigned to every variable on left hand side and\n#all remaining values will be assigned to *args\n\n(city , *area , year_population) = city_record     ",
      "execution_count": 121,
      "outputs": []
    },
    {
      "metadata": {
        "trusted": true
      },
      "cell_type": "code",
      "source": "print(city)                                     #printing the city value\nprint(area)                                     #printing the area value\nprint(year_population)                          #printing the year_population value\nprint(type(year_population))                    #printing the type of  year_population",
      "execution_count": 122,
      "outputs": [
        {
          "output_type": "stream",
          "text": "Hyderabad\n[650, 211]\n6809970\n<class 'int'>\n",
          "name": "stdout"
        }
      ]
    },
    {
      "metadata": {
        "deletable": false,
        "editable": false,
        "run_control": {
          "frozen": true
        }
      },
      "cell_type": "markdown",
      "source": "__Exercise 2.6__ Run the code and give your reasoning, why the memory address of `x` in step 2 and step 4 are different but in step 6 and step 8 are same?\n```python\nx = (2, 4, 8) # step 1\nprint(id(x))  # step 2\nx *= 2        # step 3\nprint(id(x))  # step 4\n\nx = [2, 4, 8] # step 5\nprint(id(x))  # step 6\nx *= 2        # step 7\nprint(id(x))  # step 8\n```"
    },
    {
      "metadata": {
        "trusted": true
      },
      "cell_type": "code",
      "source": "x = (2, 4, 8)\nprint(id(x))    # step:2",
      "execution_count": 123,
      "outputs": [
        {
          "output_type": "stream",
          "text": "139717387094272\n",
          "name": "stdout"
        }
      ]
    },
    {
      "metadata": {
        "trusted": true
      },
      "cell_type": "code",
      "source": "# Tuple is immutable , in step:2 and step:4 are different id Because, when we extend the tuple by multiply 2,\n# a new tuple object is created with the new element included in it. So, \n# the id function would print two different numbers \n\nx *= 2         \nprint(id(x))    \n               ",
      "execution_count": 124,
      "outputs": [
        {
          "output_type": "stream",
          "text": "139717390539368\n",
          "name": "stdout"
        }
      ]
    },
    {
      "metadata": {
        "trusted": true
      },
      "cell_type": "code",
      "source": "x = [2, 4, 8] \nprint(id(x))       #step :6",
      "execution_count": 125,
      "outputs": [
        {
          "output_type": "stream",
          "text": "139717387152136\n",
          "name": "stdout"
        }
      ]
    },
    {
      "metadata": {
        "trusted": true
      },
      "cell_type": "code",
      "source": "# in this case List are Mutable, in step:6 and step: 8 are same id because \n# when we extend the list by multiply 2  it will pointing to the same object with new element included in it.\n# so, the id function would print same  id number .\n\nx *= 2          \nprint(id(x))     \n               ",
      "execution_count": 126,
      "outputs": [
        {
          "output_type": "stream",
          "text": "139717387152136\n",
          "name": "stdout"
        }
      ]
    },
    {
      "metadata": {
        "trusted": true
      },
      "cell_type": "code",
      "source": "",
      "execution_count": null,
      "outputs": []
    }
  ],
  "metadata": {
    "kernelspec": {
      "name": "python36",
      "display_name": "Python 3.6",
      "language": "python"
    },
    "language_info": {
      "mimetype": "text/x-python",
      "nbconvert_exporter": "python",
      "name": "python",
      "pygments_lexer": "ipython3",
      "version": "3.6.6",
      "file_extension": ".py",
      "codemirror_mode": {
        "version": 3,
        "name": "ipython"
      }
    }
  },
  "nbformat": 4,
  "nbformat_minor": 2
}